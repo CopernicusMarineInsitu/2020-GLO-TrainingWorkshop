{
 "cells": [
  {
   "cell_type": "markdown",
   "metadata": {},
   "source": [
    "![header](https://i.imgur.com/I4ake6d.jpg)"
   ]
  },
  {
   "cell_type": "markdown",
   "metadata": {},
   "source": [
    "# IN SITU GLOBAL SEAS TRAINING\n",
    "\n",
    "<div style=\"text-align: right\"><i> 13-05-Part-five-out-of-five </i></div>"
   ]
  },
  {
   "cell_type": "markdown",
   "metadata": {},
   "source": [
    "***\n",
    "# GLO `NRT` product/dataset: managing files (gliders)"
   ]
  },
  {
   "cell_type": "markdown",
   "metadata": {},
   "source": [
    "***\n",
    "**General Note 1**: Execute each cell through the <button class=\"btn btn-default btn-xs\"><i class=\"icon-play fa fa-play\"></i></button> button from the top MENU (or keyboard shortcut `Shift` + `Enter`).<br>\n",
    "<br>\n",
    "**General Note 2**: If, for any reason, the kernel is not working anymore, in the top MENU, click on the <button class=\"btn btn-default btn-xs\"><i class=\"fa fa-repeat icon-repeat\"></i></button> button. Then, in the top MENU, click on \"Cell\" and select \"Run All Above Selected Cell\".<br>\n",
    "***"
   ]
  },
  {
   "cell_type": "markdown",
   "metadata": {},
   "source": [
    "<h1>Table of Contents<span class=\"tocSkip\"></span></h1>\n",
    "<div class=\"toc\">\n",
    "    <ul class=\"toc-item\">\n",
    "        <li><span><a href=\"#1.-Introduction\" data-toc-modified-id=\"1.-Introduction\">1. Introduction</a></span></li>\n",
    "        <li>\n",
    "            <span><a href=\"#2.-Setup\" data-toc-modified-id=\"2.-Setup\">2. Setup</a></span>\n",
    "            <ul>\n",
    "                <li><span><a href=\"#2.1.-Python-packages\" data-toc-modified-id=\"2.1.-Python-packages\">2.1. Python packages</a></span></li>\n",
    "            </ul>\n",
    "        </li>\n",
    "        <li><span><a href=\"#3.-Profilers-(PF)-data\" data-toc-modified-id=\"3.-Profilers-(PF)-data\">3. Profilers (PF) data</a></span>\n",
    "            <ul>\n",
    "                <li><span><a href=\"#3.1.-Reading-the-file\" data-toc-modified-id=\"3.1.-Reading-the-file\">3.1. Reading the file</a></span></li>\n",
    "                <li><span><a href=\"#3.2.-Data-visualization\" data-toc-modified-id=\"3.2.-Data-visualization\">3.2. Data visualization</a></span>\n",
    "                    <ul>\n",
    "                        <li><span><a href=\"#3.2.1.-Trajectory-animation\" data-toc-modified-id=\"3.2.1.-Trajectory-animation\">3.2.1. Trajectory animation</a></span></li>\n",
    "                        <li><span><a href=\"#3.2.2.-1D-profile\" data-toc-modified-id=\"3.2.2.-1D-profile\">3.2.2. 1D profile</a></span></li>\n",
    "                        <li><span><a href=\"#3.2.3.-2D-profile\" data-toc-modified-id=\"3.2.3.-2D-profile\">3.2.3. 2D profile</a></span></li>\n",
    "                        <li><span><a href=\"#3.2.4.-3D-profile\" data-toc-modified-id=\"3.2.4.-3D-profile\">3.2.4. 3D profile</a></span></li>\n",
    "                    </ul>\n",
    "                </li>\n",
    "           </ul>\n",
    "        </li>\n",
    "        <li><span><a href=\"#4.-Wrap-up\" data-toc-modified-id=\"4.-Wrap-up\">4. Wrap-up</a></span></li>\n",
    "    </ul>\n",
    "</div>"
   ]
  },
  {
   "cell_type": "markdown",
   "metadata": {},
   "source": [
    "***"
   ]
  },
  {
   "cell_type": "markdown",
   "metadata": {},
   "source": [
    "## 1. Introduction\n",
    "[Go back to the \"Table of Contents\"](#Table-of-Contents)\n",
    "\n",
    "According to the [13-01-NearRealTtime-product-collections-overview.ipynb](13-01-NearRealTtime-product-collections-overview.ipynb) one of the data source types available are Gliders. Please use the notebook [13-02-NearRealTtime-product-subsetting-download](13-02-NearRealTtime-product-subsetting-download.ipynb) to download some files from Profilers ('GL' data type) and let's check its data. If you wanna skip the downloading part you can use the netCDF files available `/data/nc_files/GL` instead.  "
   ]
  },
  {
   "cell_type": "markdown",
   "metadata": {},
   "source": [
    "## 2. Setup\n",
    "[Go back to the \"Table of Contents\"](#Table-of-Contents)"
   ]
  },
  {
   "cell_type": "markdown",
   "metadata": {},
   "source": [
    "### 2.1. Python packages"
   ]
  },
  {
   "cell_type": "markdown",
   "metadata": {},
   "source": [
    "For the notebook to properly run we need to first load the next packages available from the Jupyter Notebook Ecosystem. Please run the `next cell`:"
   ]
  },
  {
   "cell_type": "code",
   "execution_count": null,
   "metadata": {},
   "outputs": [],
   "source": [
    "import warnings\n",
    "warnings.filterwarnings(\"ignore\")\n",
    "\n",
    "import IPython\n",
    "import datetime\n",
    "import pandas as pd\n",
    "import os\n",
    "import numpy as np\n",
    "import xarray\n",
    "import matplotlib.pyplot as plt\n",
    "from matplotlib import colors\n",
    "import folium\n",
    "from folium import plugins\n",
    "from mpl_toolkits.mplot3d import Axes3D\n",
    "from IPython.display import YouTubeVideo\n",
    "%matplotlib inline"
   ]
  },
  {
   "cell_type": "markdown",
   "metadata": {},
   "source": [
    "<div class=\"alert alert-block alert-warning\">\n",
    "<b>WARNING</b>\n",
    "    \n",
    "***  \n",
    "If any of them raises any error it means you need to install the module first. For doing so please:\n",
    "1. Open a new cell in the notebook\n",
    "2. Run <i>`!conda install packageName --yes`</i> or <i>`!conda install -c conda-forge packageName --yes`</i> or <i>`!pip install packageName`</i>\n",
    "3. Import again!\n",
    "<br><br>\n",
    "Example: <i>how-to-solve import error for json2html module </i>\n",
    "\n",
    "![region.png](img/errorImporting.gif)"
   ]
  },
  {
   "cell_type": "markdown",
   "metadata": {},
   "source": [
    "### 2.1. Auxiliary functions"
   ]
  },
  {
   "cell_type": "markdown",
   "metadata": {},
   "source": [
    "Please `run the next cell` to load into memory a functions we will use later on for subsetting the original file if it results too large to fit int memmory:"
   ]
  },
  {
   "cell_type": "code",
   "execution_count": null,
   "metadata": {},
   "outputs": [],
   "source": [
    "def get_subset(start,end,ds):\n",
    "    #Subsets a dataset (ds) from start to end dates\n",
    "    i_start = ds['TIME'].astype(str).values.tolist().index(ds['TIME'][ds['TIME'].astype(str).str.contains(start) == True].astype(str).values[0])\n",
    "    i_end = ds['TIME'].astype(str).values.tolist().index(ds['TIME'][ds['TIME'].astype(str).str.contains(end) == True].astype(str).values[-1])\n",
    "    return ds.isel(TIME=slice(i_start, i_end),LATITUDE=slice(i_start, i_end),LONGITUDE=slice(i_start, i_end),POSITION=slice(i_start, i_end))"
   ]
  },
  {
   "cell_type": "markdown",
   "metadata": {},
   "source": [
    "## 3. Gliders (GL) data\n",
    "[Go back to the \"Table of Contents\"](#Table-of-Contents)\n",
    "\n",
    "Glider area autonomous vehicles remotely piloted that are released into the ocean in other to measure a number of variables such as temperature and salinity. This platform performs a set of up/downs casts along the water column to retrieve the variation of such parameters along the depth (profiles!) by regulatings its buoyancy.\n",
    "\n",
    "<br>Here a self explanatory video from SOCIB:  `run the next cell`"
   ]
  },
  {
   "cell_type": "code",
   "execution_count": null,
   "metadata": {},
   "outputs": [],
   "source": [
    "YouTubeVideo('mhYVcmT06X0', width=\"100%\", height=500)"
   ]
  },
  {
   "cell_type": "markdown",
   "metadata": {},
   "source": [
    "Let's see the data of one of the available gliders in the GLO Seas."
   ]
  },
  {
   "cell_type": "markdown",
   "metadata": {},
   "source": [
    "### 3.1. Reading the file"
   ]
  },
  {
   "cell_type": "markdown",
   "metadata": {},
   "source": [
    "`Run the next cell` to see the profilers files already available in the /data folder:"
   ]
  },
  {
   "cell_type": "code",
   "execution_count": null,
   "metadata": {},
   "outputs": [],
   "source": [
    "dir_GL = os.path.join(os.getcwd(),'data','nc_files','GL') \n",
    "os.listdir(dir_GL)"
   ]
  },
  {
   "cell_type": "markdown",
   "metadata": {},
   "source": [
    "`Set one` of the above available `file name` and `run the next cells`:"
   ]
  },
  {
   "cell_type": "code",
   "execution_count": null,
   "metadata": {},
   "outputs": [],
   "source": [
    "file = 'GL_PR_GL_6801636.nc'\n",
    "path = os.path.join(dir_GL, file)"
   ]
  },
  {
   "cell_type": "code",
   "execution_count": null,
   "metadata": {},
   "outputs": [],
   "source": [
    "ds = xarray.open_dataset(path)\n",
    "ds.close()\n",
    "ds"
   ]
  },
  {
   "cell_type": "markdown",
   "metadata": {},
   "source": [
    "The above one is an overview of the content of the file: variables, dimensions, coordinates, global attributes...\n",
    "<br>Let's list now the available variables: `run the next cell`"
   ]
  },
  {
   "cell_type": "code",
   "execution_count": null,
   "metadata": {},
   "outputs": [],
   "source": [
    "for var in ds.variables:\n",
    "    print(var + ':' + ds[var].attrs['long_name'])"
   ]
  },
  {
   "cell_type": "markdown",
   "metadata": {},
   "source": [
    "### 3.2. Data visualization"
   ]
  },
  {
   "cell_type": "markdown",
   "metadata": {},
   "source": [
    "Let's focus on one of the above variables to visualize its data!: `set one and run the next cell`"
   ]
  },
  {
   "cell_type": "code",
   "execution_count": null,
   "metadata": {},
   "outputs": [],
   "source": [
    "param = 'TEMP'"
   ]
  },
  {
   "cell_type": "code",
   "execution_count": null,
   "metadata": {},
   "outputs": [],
   "source": [
    "ds[param]"
   ]
  },
  {
   "cell_type": "markdown",
   "metadata": {},
   "source": [
    "#### 3.2.1. Trajectory animation\n",
    "\n",
    "As stated before, the profilers are mobile platforms. <br>Let's check the overall trajectory by joining the sampling points (locations where a profile has been performed)."
   ]
  },
  {
   "cell_type": "markdown",
   "metadata": {},
   "source": [
    "In In Situ TAC netCDFs all variables are linked to another called the same plus '_QC'. This 'twin' variable contains a quality flag for each value in the paired variable.`run the next cell` to check the flag values convention:"
   ]
  },
  {
   "cell_type": "code",
   "execution_count": null,
   "metadata": {},
   "outputs": [],
   "source": [
    "pd.DataFrame(data=ds['POSITION_QC'].attrs['flag_values'],\n",
    "             index=ds['POSITION_QC'].attrs['flag_meanings'].split(' '), columns=['quality flag'])"
   ]
  },
  {
   "cell_type": "markdown",
   "metadata": {},
   "source": [
    "Users are recommended to use only the data flagged as 1, they so called 'good data'. Let's then check the available flags for the coordinates to see if we need to get rid of not-good values: `run the next cells`"
   ]
  },
  {
   "cell_type": "code",
   "execution_count": null,
   "metadata": {},
   "outputs": [],
   "source": [
    "ds['POSITION_QC'].plot(aspect=2, size=5)"
   ]
  },
  {
   "cell_type": "markdown",
   "metadata": {},
   "source": [
    "Above, we might detect some flags values different from 1 (or not!). As a general rule, we recommend to make a selection of the data to only work with 'good' data (flags = 1). See next how:`run the next cell`"
   ]
  },
  {
   "cell_type": "code",
   "execution_count": null,
   "metadata": {},
   "outputs": [],
   "source": [
    "lats = ds['LATITUDE'].where(ds['POSITION_QC'] == 1).values.tolist()\n",
    "lats = [i[0] for i in lats]\n",
    "lons = ds['LONGITUDE'].where(ds['POSITION_QC'] == 1).values.tolist()\n",
    "lons = [i[1] for i in lons]\n",
    "times = ds['TIME'].values.tolist()\n",
    "strtimes = ds['TIME'].values[:]"
   ]
  },
  {
   "cell_type": "markdown",
   "metadata": {},
   "source": [
    "Let's initialize now a geojson object that will represent our glider: `run the next cell`"
   ]
  },
  {
   "cell_type": "code",
   "execution_count": null,
   "metadata": {},
   "outputs": [],
   "source": [
    "glider = {\n",
    "    'type': 'Feature',\n",
    "    'geometry': {\n",
    "        'type': 'LineString',\n",
    "        'coordinates': []#to be populated with lat,lon pairs\n",
    "    },\n",
    "    'properties': {\n",
    "        'times': [] #to be populed with time strings\n",
    "    }\n",
    "}"
   ]
  },
  {
   "cell_type": "markdown",
   "metadata": {},
   "source": [
    "Let's now popule it: `run the next cell`"
   ]
  },
  {
   "cell_type": "code",
   "execution_count": null,
   "metadata": {},
   "outputs": [],
   "source": [
    "for time, strtime, lat, lon in zip(times, strtimes, lats, lons):\n",
    "    base = [time,lat,lon]\n",
    "    if(any(x is None for x in base)):\n",
    "        continue\n",
    "    if(any(np.isnan(x) for x in base)):\n",
    "        continue\n",
    "    glider['properties']['times'].append(str(strtime)[:22])\n",
    "    glider['geometry']['coordinates'].append([lon, lat])"
   ]
  },
  {
   "cell_type": "markdown",
   "metadata": {},
   "source": [
    "Let's now create a map to finally see the overall trajectory performed by the profiler: `run the next cell`"
   ]
  },
  {
   "cell_type": "code",
   "execution_count": null,
   "metadata": {},
   "outputs": [],
   "source": [
    "mean_lat, mean_lon = np.mean(lats), np.mean(lons)\n",
    "m = folium.Map(\n",
    "    location=[mean_lat, mean_lon], zoom_start=5,\n",
    "    #tiles='https://tiles.emodnet-bathymetry.eu/2020/baselayer/web_mercator/{z}/{x}/{y}.png',attr=\"EMODnet bathy\"\n",
    ")\n",
    "marker = plugins.TimestampedGeoJson({\n",
    "    'type': 'FeatureCollection',\n",
    "    'features': [glider],\n",
    "}, period='P1D', add_last_point=True, loop=False).add_to(m)\n",
    "m"
   ]
  },
  {
   "cell_type": "markdown",
   "metadata": {},
   "source": [
    "<div class=\"alert alert-block alert-warning\">\n",
    "<b>WARNING</b>\n",
    "    \n",
    "***  \n",
    "If you do not see any map when running the next cell please change your navigator (try chrome!)."
   ]
  },
  {
   "cell_type": "markdown",
   "metadata": {},
   "source": [
    "Let's make a subset: from Madeira to Canary Islands!"
   ]
  },
  {
   "cell_type": "code",
   "execution_count": null,
   "metadata": {},
   "outputs": [],
   "source": [
    "subset = get_subset('2020-03-29','2020-04-20',ds)"
   ]
  },
  {
   "cell_type": "markdown",
   "metadata": {},
   "source": [
    "#### 3.2.2. 1D profile"
   ]
  },
  {
   "cell_type": "markdown",
   "metadata": {},
   "source": [
    "Let's see the selected variable variation with depth in a specific time/position.."
   ]
  },
  {
   "cell_type": "markdown",
   "metadata": {},
   "source": [
    "Set first cell the profile to check (`run the next cell`): "
   ]
  },
  {
   "cell_type": "code",
   "execution_count": null,
   "metadata": {},
   "outputs": [],
   "source": [
    "idx = 0 #First profile"
   ]
  },
  {
   "cell_type": "markdown",
   "metadata": {},
   "source": [
    "Set a title for the plot (`run the next cell`):"
   ]
  },
  {
   "cell_type": "code",
   "execution_count": null,
   "metadata": {},
   "outputs": [],
   "source": [
    "title = param + ' profile from platform '+subset.platform_code+\\\n",
    "    ' \\n time('+str(subset['TIME'].values[idx])[:19]+') '+\\\n",
    "    '& position('+str(subset['LATITUDE'].values[idx])+','+str(subset['LONGITUDE'].values[idx])+')'"
   ]
  },
  {
   "cell_type": "markdown",
   "metadata": {},
   "source": [
    "Create plot (`run the next cell`): *uncomment the last to lines to save the output as png"
   ]
  },
  {
   "cell_type": "code",
   "execution_count": null,
   "metadata": {},
   "outputs": [],
   "source": [
    "subset[param][idx].where(subset[param+'_QC'][idx]==1).plot.line(aspect=2, size=7, marker='o',y='DEPTH')\n",
    "plt.title(title)\n",
    "plt.gca().invert_yaxis()\n",
    "#png_name ='1D_'+ds.platform_code+'.png'\n",
    "#plt.savefig(png_name)"
   ]
  },
  {
   "cell_type": "markdown",
   "metadata": {},
   "source": [
    "#### 3.2.3. 2D profile"
   ]
  },
  {
   "cell_type": "markdown",
   "metadata": {},
   "source": [
    "Let's plot the selected variable variation with time and depth (no matter the position)!"
   ]
  },
  {
   "cell_type": "markdown",
   "metadata": {},
   "source": [
    "Set a new title (`run the next cell`):"
   ]
  },
  {
   "cell_type": "code",
   "execution_count": null,
   "metadata": {},
   "outputs": [],
   "source": [
    "title = '2D '+param+' profiles from platform '+subset.platform_code+\\\n",
    "    ' \\n times('+str(subset['TIME'].values[0])[:19]+' / '+str(subset['TIME'].values[-1])[:19]+') '"
   ]
  },
  {
   "cell_type": "markdown",
   "metadata": {},
   "source": [
    "Create a 2D plot (`run the next cell`): *uncomment the last to lines to save the output as png"
   ]
  },
  {
   "cell_type": "code",
   "execution_count": null,
   "metadata": {},
   "outputs": [],
   "source": [
    "subset[param].where(subset[param+'_QC'] == 1).plot(\n",
    "    x='TIME', y='DEPTH', aspect=3, size=10, cmap='jet')\n",
    "plt.title(title)\n",
    "plt.gca().invert_yaxis()\n",
    "#png_name ='2D_'+ds.platform_code+'.png'\n",
    "#plt.savefig(png_name)"
   ]
  },
  {
   "cell_type": "markdown",
   "metadata": {},
   "source": [
    "#### 3.2.4. 3D profile"
   ]
  },
  {
   "cell_type": "markdown",
   "metadata": {},
   "source": [
    "Let's plot the selected variable variation with time, depth and position!"
   ]
  },
  {
   "cell_type": "markdown",
   "metadata": {},
   "source": [
    "Set first a colormap (`run the next cell`):"
   ]
  },
  {
   "cell_type": "code",
   "execution_count": null,
   "metadata": {},
   "outputs": [],
   "source": [
    "cmap = plt.cm.Spectral_r\n",
    "norm = colors.Normalize(vmin=ds[param].where(subset[param+'_QC'] == 1).min(\n",
    ").values.tolist(), vmax=subset[param].where(subset[param+'_QC'] == 1).max().values.tolist())"
   ]
  },
  {
   "cell_type": "markdown",
   "metadata": {},
   "source": [
    "Specify the list of profiles to plot (`run the next cell`):"
   ]
  },
  {
   "cell_type": "code",
   "execution_count": null,
   "metadata": {},
   "outputs": [],
   "source": [
    "profiles2plot = range(0, len(subset['TIME'])) #Defaults to all!\n",
    "profiles2plot"
   ]
  },
  {
   "cell_type": "markdown",
   "metadata": {},
   "source": [
    "<div class=\"alert alert-block alert-warning\">\n",
    "<b>WARNING</b>\n",
    "    \n",
    "***  \n",
    "If you face any problem with the next plot, try reducing the number of `profiles2plot`"
   ]
  },
  {
   "cell_type": "markdown",
   "metadata": {},
   "source": [
    "Create the 3D plot (`run the next cell`): *uncomment the last to lines to save the output as png"
   ]
  },
  {
   "cell_type": "code",
   "execution_count": null,
   "metadata": {},
   "outputs": [],
   "source": [
    "fig = plt.figure(figsize=(10, 10))\n",
    "ax = fig.add_subplot(111, projection='3d')\n",
    "for a in profiles2plot:\n",
    "    lat = subset['LATITUDE'].values.tolist()[a]\n",
    "    lon = subset['LONGITUDE'].values.tolist()[a]\n",
    "    temp = subset[param].where(subset[param+'_QC'] == 1).values.tolist()[a]\n",
    "    depth = (-1*subset['DEPTH']).values.tolist()\n",
    "    plt.scatter(lon*np.ones(len(depth)), lat*np.ones(len(depth)), zs=depth, zdir='z', s=20, c=temp, cmap=cmap, norm=norm)\n",
    "cbar = plt.colorbar(orientation=\"horizontal\", pad=0.02)\n",
    "cbar.ax.set_xlabel(param)\n",
    "ax.set_title(str(a+1)+param+ ' profiles from platform ' + ds.id, y=1.08)\n",
    "ax.set_zlabel('depth', labelpad=20, rotation=90)\n",
    "ax.set_ylabel('latitude', labelpad=20)\n",
    "ax.set_xlabel('longitude', labelpad=20)\n",
    "#png_name ='3D_'+ds.platform_code+'.png'\n",
    "#plt.savefig(png_name)"
   ]
  },
  {
   "cell_type": "markdown",
   "metadata": {},
   "source": [
    "***"
   ]
  },
  {
   "cell_type": "markdown",
   "metadata": {},
   "source": [
    "## 4. Wrap-up\n",
    "[Go back to the \"Table of Contents\"](#Table-of-Contents)"
   ]
  },
  {
   "cell_type": "markdown",
   "metadata": {},
   "source": [
    "So far you should already know how to deal with profile-like data from profilers platforms. <br> `If you don't please ask us! it is the moment!`"
   ]
  }
 ],
 "metadata": {
  "finalized": {
   "timestamp": 1572908337060,
   "trusted": true
  },
  "hide_input": false,
  "kernelspec": {
   "display_name": "Python 3",
   "language": "python",
   "name": "python3"
  },
  "language_info": {
   "codemirror_mode": {
    "name": "ipython",
    "version": 3
   },
   "file_extension": ".py",
   "mimetype": "text/x-python",
   "name": "python",
   "nbconvert_exporter": "python",
   "pygments_lexer": "ipython3",
   "version": "3.7.4"
  },
  "toc": {
   "base_numbering": 1,
   "nav_menu": {},
   "number_sections": true,
   "sideBar": true,
   "skip_h1_title": true,
   "title_cell": "Table of Contents",
   "title_sidebar": "Contents",
   "toc_cell": true,
   "toc_position": {},
   "toc_section_display": true,
   "toc_window_display": false
  },
  "varInspector": {
   "cols": {
    "lenName": 16,
    "lenType": 16,
    "lenVar": 40
   },
   "kernels_config": {
    "python": {
     "delete_cmd_postfix": "",
     "delete_cmd_prefix": "del ",
     "library": "var_list.py",
     "varRefreshCmd": "print(var_dic_list())"
    },
    "r": {
     "delete_cmd_postfix": ") ",
     "delete_cmd_prefix": "rm(",
     "library": "var_list.r",
     "varRefreshCmd": "cat(var_dic_list()) "
    }
   },
   "types_to_exclude": [
    "module",
    "function",
    "builtin_function_or_method",
    "instance",
    "_Feature"
   ],
   "window_display": false
  }
 },
 "nbformat": 4,
 "nbformat_minor": 4
}
