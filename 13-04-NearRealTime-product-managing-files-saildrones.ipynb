{
 "cells": [
  {
   "cell_type": "markdown",
   "metadata": {},
   "source": [
    "![header](https://i.imgur.com/I4ake6d.jpg)"
   ]
  },
  {
   "cell_type": "markdown",
   "metadata": {},
   "source": [
    "# IN SITU GLOBAL SEAS TRAINING\n",
    "\n",
    "<div style=\"text-align: right\"><i> 13-04-Part-four-out-of-five </i></div>"
   ]
  },
  {
   "cell_type": "markdown",
   "metadata": {},
   "source": [
    "***\n",
    "# GLO `NRT` product/dataset: managing files (saildrones)"
   ]
  },
  {
   "cell_type": "markdown",
   "metadata": {},
   "source": [
    "***\n",
    "**General Note 1**: Execute each cell through the <button class=\"btn btn-default btn-xs\"><i class=\"icon-play fa fa-play\"></i></button> button from the top MENU (or keyboard shortcut `Shift` + `Enter`).<br>\n",
    "<br>\n",
    "**General Note 2**: If, for any reason, the kernel is not working anymore, in the top MENU, click on the <button class=\"btn btn-default btn-xs\"><i class=\"fa fa-repeat icon-repeat\"></i></button> button. Then, in the top MENU, click on \"Cell\" and select \"Run All Above Selected Cell\".<br>\n",
    "***"
   ]
  },
  {
   "cell_type": "markdown",
   "metadata": {},
   "source": [
    "<h1>Table of Contents<span class=\"tocSkip\"></h1>\n",
    "<div class=\"toc\">\n",
    "    <ul class=\"toc-item\">\n",
    "        <li><span><a href=\"#1.-Introduction\" data-toc-modified-id=\"1.-Introduction\">1. Introduction</a></span></li>\n",
    "        <li>\n",
    "            <span><a href=\"#2.-Setup\" data-toc-modified-id=\"2.-Setup\">2. Setup</a></span>\n",
    "            <ul>\n",
    "                <li><span><a href=\"#2.1.-Python-packages\" data-toc-modified-id=\"2.1.-Python-packages\">2.1. Python packages</a></span></li>\n",
    "                <li><span><a href=\"#2.2.-Auxiliary-functions\" data-toc-modified-id=\"2.2.-Auxiliary-functions\">2.2. Auxiliary functions</a></span></li>\n",
    "            </ul>\n",
    "        </li>\n",
    "        <li><span><a href=\"#3.-Saildrones-(SD)-data\" data-toc-modified-id=\"3.-Saildrones-(SD)-data\">3. Saildrones (SD) data</a></span>\n",
    "            <ul>\n",
    "                <li><span><a href=\"#3.1.-Reading-the-file\" data-toc-modified-id=\"3.1.-Reading-the-file\">3.1. Reading the file</a></span></li>\n",
    "                <li><span><a href=\"#3.2.-Data-visualization\" data-toc-modified-id=\"3.2.-Data-visualization\">3.2. Data visualization</a></span>\n",
    "                    <ul>\n",
    "                        <li><span><a href=\"#3.2.1.-Trajectory-animation\" data-toc-modified-id=\"3.2.1.-Trajectory-animation\">3.2.1. Trajectory animation</a></span></li>\n",
    "                <li><span><a href=\"#3.2.2.-Along-track-variable-evolution\" data-toc-modified-id=\"3.2.2.-Along-track-variable-evolution\">3.2.2. Along track variable evolution</a></span></li>\n",
    "        <li><span><a href=\"#3.2.3.-Overall-variable-evolution\" data-toc-modified-id=\"3.2.3.-Overall-variable-evolution\">3.2.3. Overall variable evolution</a></span></li>\n",
    "                    </ul>\n",
    "                </li>     \n",
    "            </ul>\n",
    "        </li>\n",
    "        <li><span><a href=\"#4.-Wrap-up\" data-toc-modified-id=\"4.-Wrap-up\">4. Wrap-up</a></span></li>\n",
    "    </ul>\n",
    "</div>"
   ]
  },
  {
   "cell_type": "markdown",
   "metadata": {},
   "source": [
    "## 1. Introduction\n",
    "[Go back to the \"Table of Contents\"](#Table-of-Contents)\n",
    "\n",
    "According to the [13-01-NearRealTtime-product-collections-overview.ipynb](13-01-NearRealTtime-product-collections-overview.ipynb) one of the available data source types are the Saildrones. Please use the notebook [13-02-NearRealTtime-product-subsetting-download](13-02-NearRealTtime-product-subsetting-download.ipynb) to download some files from Saildrones ('SD' data type) and let's check its data. <br> If you wanna skip the downloading part you can use the netCDF files available `/data/files/SD/` instead.    "
   ]
  },
  {
   "cell_type": "markdown",
   "metadata": {},
   "source": [
    "## 2. Setup\n",
    "[Go back to the \"Table of Contents\"](#Table-of-Contents)"
   ]
  },
  {
   "cell_type": "markdown",
   "metadata": {},
   "source": [
    "### 2.1. Python packages"
   ]
  },
  {
   "cell_type": "markdown",
   "metadata": {},
   "source": [
    "For the notebook to properly run we need to first load the next packages available from the Jupyter Notebook Ecosystem. Please run the `next cell`:"
   ]
  },
  {
   "cell_type": "code",
   "execution_count": null,
   "metadata": {},
   "outputs": [],
   "source": [
    "import warnings\n",
    "warnings.filterwarnings(\"ignore\")\n",
    "\n",
    "import os\n",
    "import pandas as pd\n",
    "import datetime\n",
    "import numpy as np\n",
    "import xarray\n",
    "import folium\n",
    "from folium import plugins\n",
    "from IPython.display import YouTubeVideo\n",
    "import branca\n",
    "%matplotlib inline"
   ]
  },
  {
   "cell_type": "markdown",
   "metadata": {},
   "source": [
    "<div class=\"alert alert-block alert-warning\">\n",
    "<b>WARNING</b>\n",
    "    \n",
    "***  \n",
    "If any of them raises any error it means you need to install the module first. For doing so please:\n",
    "1. Open a new cell int he notebook\n",
    "2. Run <i>`!conda install packageName --yes`</i> or <i>`!conda install -c conda-forge packageName --yes`</i> or <i>`!pip install packageName`</i>\n",
    "3. Import again!\n",
    "<br><br>\n",
    "Example: <i>how-to-solve import error for json2html module </i>\n",
    "\n",
    "![region.png](img/errorImporting.gif)"
   ]
  },
  {
   "cell_type": "markdown",
   "metadata": {},
   "source": [
    "### 2.1. Auxiliary functions"
   ]
  },
  {
   "cell_type": "markdown",
   "metadata": {},
   "source": [
    "Please `run the next cell` to load into memory a functions we will use later on for subsetting the original file if it results too large to fit int memmory:"
   ]
  },
  {
   "cell_type": "code",
   "execution_count": null,
   "metadata": {},
   "outputs": [],
   "source": [
    "def get_subset(start,end,ds):\n",
    "    #Subsets a dataset (ds) from start to end dates\n",
    "    i_start = ds['TIME'].astype(str).values.tolist().index(ds['TIME'][ds['TIME'].astype(str).str.contains(start) == True].astype(str).values[0])\n",
    "    i_end = ds['TIME'].astype(str).values.tolist().index(ds['TIME'][ds['TIME'].astype(str).str.contains(end) == True].astype(str).values[-1])\n",
    "    return ds.isel(TIME=slice(i_start, i_end),LATITUDE=slice(i_start, i_end),LONGITUDE=slice(i_start, i_end),POSITION=slice(i_start, i_end))"
   ]
  },
  {
   "cell_type": "markdown",
   "metadata": {},
   "source": [
    "## 3. Saildrones (SD) data\n",
    "[Go back to the \"Table of Contents\"](#Table-of-Contents)"
   ]
  },
  {
   "cell_type": "markdown",
   "metadata": {},
   "source": [
    "Saildrones sailing devices that measure a number of metocean variables (i.e salinity,temperature, wind..) as they move. <br>These are brand new platforms and you can get to know them better by watching the following Hello-World video: `run the next cell`"
   ]
  },
  {
   "cell_type": "code",
   "execution_count": null,
   "metadata": {},
   "outputs": [],
   "source": [
    "YouTubeVideo('iFTToTsJuY0', width=\"100%\", height=500)"
   ]
  },
  {
   "cell_type": "markdown",
   "metadata": {},
   "source": [
    "Let's see the data of one of the available Saildrones in the GLO Seas.<br>`Run the next cell` to see the saildrones files already available in the /data folder:"
   ]
  },
  {
   "cell_type": "code",
   "execution_count": null,
   "metadata": {},
   "outputs": [],
   "source": [
    "dir_SD = os.path.join(os.getcwd(),'data','nc_files','SD') \n",
    "os.listdir(dir_SD)"
   ]
  },
  {
   "cell_type": "markdown",
   "metadata": {},
   "source": [
    "### 3.1. Reading the file"
   ]
  },
  {
   "cell_type": "markdown",
   "metadata": {},
   "source": [
    "`Set one` of the above available `file name` and `run the next cells`:"
   ]
  },
  {
   "cell_type": "code",
   "execution_count": null,
   "metadata": {},
   "outputs": [],
   "source": [
    "file = 'GL_TS_SD_1801573.nc'\n",
    "path = os.path.join(dir_SD, file)"
   ]
  },
  {
   "cell_type": "code",
   "execution_count": null,
   "metadata": {},
   "outputs": [],
   "source": [
    "ds = xarray.open_dataset(path)\n",
    "ds.close()\n",
    "ds"
   ]
  },
  {
   "cell_type": "markdown",
   "metadata": {},
   "source": [
    "The above one is an overview of the content of the file: variables, dimensions, coordinates, global attributes...\n",
    "<br>Let's list now the available variables: `run the next cell`"
   ]
  },
  {
   "cell_type": "code",
   "execution_count": null,
   "metadata": {},
   "outputs": [],
   "source": [
    "for var in ds.variables:\n",
    "    print(var + ':' + ds[var].attrs['long_name'])"
   ]
  },
  {
   "cell_type": "markdown",
   "metadata": {},
   "source": [
    "Let's see the average sampling rate, as it is to bear in mind when plotting to avoid memory chrashes:"
   ]
  },
  {
   "cell_type": "code",
   "execution_count": null,
   "metadata": {},
   "outputs": [],
   "source": [
    "start = datetime.datetime.strptime(ds.attrs['time_coverage_start'], '%Y-%m-%dT%H:%M:%SZ')\n",
    "end = datetime.datetime.strptime(ds.attrs['time_coverage_end'], '%Y-%m-%dT%H:%M:%SZ')"
   ]
  },
  {
   "cell_type": "code",
   "execution_count": null,
   "metadata": {},
   "outputs": [],
   "source": [
    "aprox_sampling_rate_in_minutes = ((end-start).total_seconds()/60)/len(ds['TIME'])\n",
    "'one measure every '+str(aprox_sampling_rate_in_minutes)+' minutes from/to %s/%s'%(start,end)"
   ]
  },
  {
   "cell_type": "markdown",
   "metadata": {},
   "source": [
    "Regarding the above information, it is better to keep going with just a subset of the file: `run the next cell`"
   ]
  },
  {
   "cell_type": "code",
   "execution_count": null,
   "metadata": {},
   "outputs": [],
   "source": [
    "start = '2020-01-30'\n",
    "end = '2020-02-04'"
   ]
  },
  {
   "cell_type": "code",
   "execution_count": null,
   "metadata": {},
   "outputs": [],
   "source": [
    "subset = get_subset(start, end, ds)"
   ]
  },
  {
   "cell_type": "markdown",
   "metadata": {},
   "source": [
    "### 3.2. Data visualization"
   ]
  },
  {
   "cell_type": "markdown",
   "metadata": {},
   "source": [
    "#### 3.2.1. Trajectory animation"
   ]
  },
  {
   "cell_type": "markdown",
   "metadata": {},
   "source": [
    "As stated before, the saildrone a mobile platform.\n",
    "<br>Let's check the overall trajectory by joining the sampling points."
   ]
  },
  {
   "cell_type": "markdown",
   "metadata": {},
   "source": [
    "In In Situ TAC netCDFs all variables are linked to another called the same plus '_QC'. This 'twin' variable contains a quality flag for each value in the paired variable.`run the next cell` to check the flag values convention:"
   ]
  },
  {
   "cell_type": "code",
   "execution_count": null,
   "metadata": {},
   "outputs": [],
   "source": [
    "pd.DataFrame(data=subset['TEMP_QC'].attrs['flag_values'],\n",
    "             index=subset['TEMP_QC'].attrs['flag_meanings'].split(' '), columns=['quality flag'])"
   ]
  },
  {
   "cell_type": "markdown",
   "metadata": {},
   "source": [
    "Users are recommended to use only the data flagged as 1, they so called 'good data'. Let's then check the available flags for the coordinates (time and position) to see if we need to get rid of not-good values: `run the next cells`"
   ]
  },
  {
   "cell_type": "code",
   "execution_count": null,
   "metadata": {},
   "outputs": [],
   "source": [
    "subset['POSITION_QC'].plot(aspect=2, size=5)"
   ]
  },
  {
   "cell_type": "markdown",
   "metadata": {},
   "source": [
    "From above, we see no flags values different from 1, so we are ready to go!. Be aware nevertheless, that in the event of other flags values, a selection of the data must be done. See next how:`run the next cell`"
   ]
  },
  {
   "cell_type": "code",
   "execution_count": null,
   "metadata": {},
   "outputs": [],
   "source": [
    "lats = subset['LATITUDE'].where(subset['POSITION_QC'] == 1).values.tolist()\n",
    "lats = [i[0] for i in lats]\n",
    "lons = subset['LONGITUDE'].where(subset['POSITION_QC'] == 1).values.tolist()\n",
    "lons = [i[1] for i in lons]\n",
    "times = subset['TIME'].where(subset['TIME_QC'] == 1).values.tolist()\n",
    "strtimes = subset['TIME'].where(subset['TIME_QC'] == 1).values[:]"
   ]
  },
  {
   "cell_type": "markdown",
   "metadata": {},
   "source": [
    "Let's create now a geojson feature representing the vessel:"
   ]
  },
  {
   "cell_type": "code",
   "execution_count": null,
   "metadata": {},
   "outputs": [],
   "source": [
    "saildrone = {\n",
    "    'type': 'Feature',\n",
    "    'geometry': {\n",
    "        'type': 'LineString',\n",
    "        'coordinates': []\n",
    "    },\n",
    "    'properties': {\n",
    "        'times': [],\n",
    "    }\n",
    "}"
   ]
  },
  {
   "cell_type": "markdown",
   "metadata": {},
   "source": [
    "Let's populate it:"
   ]
  },
  {
   "cell_type": "code",
   "execution_count": null,
   "metadata": {},
   "outputs": [],
   "source": [
    "for time, strtime, lat, lon in zip(times, strtimes, lats, lons):\n",
    "    base = [time,lat,lon]\n",
    "    if(any(x is None for x in base)):\n",
    "        continue\n",
    "    if(any(np.isnan(x) for x in base)):\n",
    "        continue\n",
    "    saildrone['properties']['times'].append(str(strtime)[:22])\n",
    "    saildrone['geometry']['coordinates'].append([lon, lat])"
   ]
  },
  {
   "cell_type": "code",
   "execution_count": null,
   "metadata": {},
   "outputs": [],
   "source": [
    "mean_lat, mean_lon = np.nanmean(lats), np.nanmean(lons)\n",
    "m = folium.Map(location=[mean_lat, mean_lon], zoom_start=6)\n",
    "marker = plugins.TimestampedGeoJson({\n",
    "    'type': 'FeatureCollection',\n",
    "    'features': [saildrone],\n",
    "}, add_last_point=True, loop=False).add_to(m)\n",
    "m"
   ]
  },
  {
   "cell_type": "markdown",
   "metadata": {},
   "source": [
    "<div class=\"alert alert-block alert-warning\">\n",
    "<b>WARNING</b>\n",
    "    \n",
    "***  \n",
    "If you do not see any map when running the next cell please change your navigator (try chrome!)."
   ]
  },
  {
   "cell_type": "markdown",
   "metadata": {},
   "source": [
    "### 3.2.2. Along track variable evolution"
   ]
  },
  {
   "cell_type": "markdown",
   "metadata": {},
   "source": [
    "Let's focus on one of the variables to visualize its data!: `set one and run the next cell`"
   ]
  },
  {
   "cell_type": "code",
   "execution_count": null,
   "metadata": {},
   "outputs": [],
   "source": [
    "param = 'TEMP'\n",
    "subset[param][:,1]"
   ]
  },
  {
   "cell_type": "code",
   "execution_count": null,
   "metadata": {},
   "outputs": [],
   "source": [
    "subset[param+'_QC'][:,1].plot()"
   ]
  },
  {
   "cell_type": "markdown",
   "metadata": {},
   "source": [
    "Let's get only the good data (1) or probably good data (2):"
   ]
  },
  {
   "cell_type": "code",
   "execution_count": null,
   "metadata": {},
   "outputs": [],
   "source": [
    "var = subset[param][:,1].where(subset[param+'_QC'][:,1] == 1).values.tolist()"
   ]
  },
  {
   "cell_type": "markdown",
   "metadata": {},
   "source": [
    "Let's set a colormap:"
   ]
  },
  {
   "cell_type": "code",
   "execution_count": null,
   "metadata": {},
   "outputs": [],
   "source": [
    "linear_cmap = branca.colormap.LinearColormap(['green', 'yellow', 'red'],vmin=np.nanmin(var), vmax=np.nanmax(var))\n",
    "linear_cmap"
   ]
  },
  {
   "cell_type": "markdown",
   "metadata": {},
   "source": [
    "Let's plot the parameter values along the trajectory:"
   ]
  },
  {
   "cell_type": "code",
   "execution_count": null,
   "metadata": {},
   "outputs": [],
   "source": [
    "m = folium.Map(location=[mean_lat, mean_lon], zoom_start=8)\n",
    "for k in range(0,len(times)-1,3):\n",
    "    try:\n",
    "        color = linear_cmap(var[k])\n",
    "        folium.CircleMarker([lats[k],lons[k]], radius=1,color=color).add_to(m)\n",
    "    except Exception as e:\n",
    "        pass\n",
    "m.fit_bounds(m.get_bounds())\n",
    "colormap = branca.colormap.LinearColormap(['green', 'yellow', 'red']).scale(int(np.nanmin(var)), int(np.nanmax(var))).to_step(6)\n",
    "colormap.caption = param+' variation along the saildrone track'\n",
    "m.add_child(colormap)\n",
    "m"
   ]
  },
  {
   "cell_type": "markdown",
   "metadata": {},
   "source": [
    "<div class=\"alert alert-block alert-warning\">\n",
    "<b>WARNING</b>\n",
    "    \n",
    "***  \n",
    "If you do not see any map when running the next cell please change your navigator (try chrome!)."
   ]
  },
  {
   "cell_type": "markdown",
   "metadata": {},
   "source": [
    "Do you wanna use a bathy basemap instead? `run the next cell`"
   ]
  },
  {
   "cell_type": "code",
   "execution_count": null,
   "metadata": {},
   "outputs": [],
   "source": [
    "m = folium.Map(\n",
    "    location=[mean_lat, mean_lon], \n",
    "    zoom_start=8,\n",
    "    tiles='https://tiles.emodnet-bathymetry.eu/2020/baselayer/web_mercator/{z}/{x}/{y}.png',\n",
    "    attr=\"EMODnet bathy\"\n",
    ")\n",
    "for k in range(0,len(times)-1,3):\n",
    "    try:\n",
    "        color = linear_cmap(var[k])\n",
    "        folium.CircleMarker([lats[k],lons[k]], radius=1,color=color).add_to(m)\n",
    "    except Exception as e:\n",
    "        pass\n",
    "m.fit_bounds(m.get_bounds())\n",
    "colormap = branca.colormap.LinearColormap(['green', 'yellow', 'red']).scale(int(np.nanmin(var)), int(np.nanmax(var))).to_step(6)\n",
    "colormap.caption = param+' variation along the saildrone track'\n",
    "m.add_child(colormap)\n",
    "m"
   ]
  },
  {
   "cell_type": "markdown",
   "metadata": {},
   "source": [
    "### 3.2.4. Overall variable evolution"
   ]
  },
  {
   "cell_type": "markdown",
   "metadata": {},
   "source": [
    "Let's plot the overall variability of the parameter over time (as vessel moves)"
   ]
  },
  {
   "cell_type": "code",
   "execution_count": null,
   "metadata": {},
   "outputs": [],
   "source": [
    "subset[param][:,1].plot(aspect=3, size=5, marker='o', color='k')"
   ]
  },
  {
   "cell_type": "markdown",
   "metadata": {},
   "source": [
    "***"
   ]
  },
  {
   "cell_type": "markdown",
   "metadata": {},
   "source": [
    "## 4. Wrap-up\n",
    "[Go back to the \"Table of Contents\"](#Table-of-Contents)"
   ]
  },
  {
   "cell_type": "markdown",
   "metadata": {},
   "source": [
    "So far you should already know how to deal with trajectory-like Time Serie data from drifting buoys. <br> `If you don't please ask us! it is the moment!`"
   ]
  }
 ],
 "metadata": {
  "finalized": {
   "timestamp": 1572908337060,
   "trusted": true
  },
  "hide_input": false,
  "kernelspec": {
   "display_name": "Python 3",
   "language": "python",
   "name": "python3"
  },
  "language_info": {
   "codemirror_mode": {
    "name": "ipython",
    "version": 3
   },
   "file_extension": ".py",
   "mimetype": "text/x-python",
   "name": "python",
   "nbconvert_exporter": "python",
   "pygments_lexer": "ipython3",
   "version": "3.7.4"
  },
  "toc": {
   "base_numbering": 1,
   "nav_menu": {},
   "number_sections": true,
   "sideBar": true,
   "skip_h1_title": true,
   "title_cell": "Table of Contents",
   "title_sidebar": "Contents",
   "toc_cell": true,
   "toc_position": {},
   "toc_section_display": true,
   "toc_window_display": false
  },
  "varInspector": {
   "cols": {
    "lenName": 16,
    "lenType": 16,
    "lenVar": 40
   },
   "kernels_config": {
    "python": {
     "delete_cmd_postfix": "",
     "delete_cmd_prefix": "del ",
     "library": "var_list.py",
     "varRefreshCmd": "print(var_dic_list())"
    },
    "r": {
     "delete_cmd_postfix": ") ",
     "delete_cmd_prefix": "rm(",
     "library": "var_list.r",
     "varRefreshCmd": "cat(var_dic_list()) "
    }
   },
   "types_to_exclude": [
    "module",
    "function",
    "builtin_function_or_method",
    "instance",
    "_Feature"
   ],
   "window_display": false
  }
 },
 "nbformat": 4,
 "nbformat_minor": 4
}
